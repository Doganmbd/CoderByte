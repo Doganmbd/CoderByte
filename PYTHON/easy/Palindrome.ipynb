{
  "nbformat": 4,
  "nbformat_minor": 0,
  "metadata": {
    "colab": {
      "name": "Palindrome.ipynb",
      "provenance": [],
      "authorship_tag": "ABX9TyMq0CNDr1Nijg1TLqKhr14f",
      "include_colab_link": true
    },
    "kernelspec": {
      "name": "python3",
      "display_name": "Python 3"
    },
    "language_info": {
      "name": "python"
    }
  },
  "cells": [
    {
      "cell_type": "markdown",
      "metadata": {
        "id": "view-in-github",
        "colab_type": "text"
      },
      "source": [
        "<a href=\"https://colab.research.google.com/github/Doganmbd/CoderByte/blob/main/Palindrome.ipynb\" target=\"_parent\"><img src=\"https://colab.research.google.com/assets/colab-badge.svg\" alt=\"Open In Colab\"/></a>"
      ]
    },
    {
      "cell_type": "code",
      "execution_count": 11,
      "metadata": {
        "colab": {
          "base_uri": "https://localhost:8080/",
          "height": 35
        },
        "id": "zSq3DfZjiYam",
        "outputId": "483c95e9-d032-4999-d9cc-ed6faa89f71b"
      },
      "outputs": [
        {
          "output_type": "execute_result",
          "data": {
            "text/plain": [
              "'false'"
            ],
            "application/vnd.google.colaboratory.intrinsic+json": {
              "type": "string"
            }
          },
          "metadata": {},
          "execution_count": 11
        }
      ],
      "source": [
        "\"\"\" Palindrome\n",
        "Have the function Palindrome(str) take the str parameter being passed and return the string true if the parameter is a palindrome, (the string is the same forward as it is backward) otherwise return the string false. For example: \"racecar\" is also \"racecar\" backwards. Punctuation and numbers will not be part of the string. \n",
        "\n",
        "Input: \"never odd or even\"\n",
        "Output: true\n",
        "\n",
        "Input: \"eye\"\n",
        "Output: true\n",
        "\n",
        "\"\"\"\n",
        "\n",
        "def Palindrome2(string):\n",
        "\n",
        "    if string.lower() == string[::-1].lower():\n",
        "        return \"true\"\n",
        "    else:\n",
        "        return \"false\"\n",
        "\n",
        "Palindrome2(\"never odd or even\")"
      ]
    },
    {
      "cell_type": "code",
      "source": [
        "def Palindrome(str):\n",
        "    string_no_spaces = str.replace(\" \", \"\")\n",
        "    if string_no_spaces == string_no_spaces[::-1]:\n",
        "        return \"true\"\n",
        "    return \"false\"\n",
        "\n",
        "Palindrome(\"never odd or even\")"
      ],
      "metadata": {
        "colab": {
          "base_uri": "https://localhost:8080/",
          "height": 35
        },
        "id": "Nof_9nJQjQkn",
        "outputId": "6ad2f327-3a2a-43c0-f40c-175c477e556d"
      },
      "execution_count": 5,
      "outputs": [
        {
          "output_type": "execute_result",
          "data": {
            "text/plain": [
              "'true'"
            ],
            "application/vnd.google.colaboratory.intrinsic+json": {
              "type": "string"
            }
          },
          "metadata": {},
          "execution_count": 5
        }
      ]
    }
  ]
}